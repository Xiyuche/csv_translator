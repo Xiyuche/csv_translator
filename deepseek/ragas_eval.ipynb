{
 "cells": [
  {
   "metadata": {
    "ExecuteTime": {
     "end_time": "2024-08-19T08:33:28.722265Z",
     "start_time": "2024-08-19T08:33:26.816444Z"
    }
   },
   "cell_type": "code",
   "source": [
    "import pandas as pd\n",
    "\n",
    "# 替换为你的 CSV 文件路径\n",
    "csv_file_path = 'split_file_1.csv'\n",
    "\n",
    "# 读取 CSV 文件\n",
    "df = pd.read_csv(csv_file_path)\n",
    "\n",
    "# 将字符串转换为列表，如果不是字符串则将其转换为空列表\n",
    "df['contexts'] = df['contexts'].apply(lambda x: [x])\n",
    "\n",
    "\n",
    "df\n"
   ],
   "id": "e7d712f678f0c3c",
   "outputs": [
    {
     "ename": "FileNotFoundError",
     "evalue": "[Errno 2] No such file or directory: 'split_file_1.csv'",
     "output_type": "error",
     "traceback": [
      "\u001B[0;31m---------------------------------------------------------------------------\u001B[0m",
      "\u001B[0;31mFileNotFoundError\u001B[0m                         Traceback (most recent call last)",
      "Cell \u001B[0;32mIn[9], line 7\u001B[0m\n\u001B[1;32m      4\u001B[0m csv_file_path \u001B[38;5;241m=\u001B[39m \u001B[38;5;124m'\u001B[39m\u001B[38;5;124msplit_file_1.csv\u001B[39m\u001B[38;5;124m'\u001B[39m\n\u001B[1;32m      6\u001B[0m \u001B[38;5;66;03m# 读取 CSV 文件\u001B[39;00m\n\u001B[0;32m----> 7\u001B[0m df \u001B[38;5;241m=\u001B[39m \u001B[43mpd\u001B[49m\u001B[38;5;241;43m.\u001B[39;49m\u001B[43mread_csv\u001B[49m\u001B[43m(\u001B[49m\u001B[43mcsv_file_path\u001B[49m\u001B[43m)\u001B[49m\n\u001B[1;32m      9\u001B[0m \u001B[38;5;66;03m# 将字符串转换为列表，如果不是字符串则将其转换为空列表\u001B[39;00m\n\u001B[1;32m     10\u001B[0m df[\u001B[38;5;124m'\u001B[39m\u001B[38;5;124mcontexts\u001B[39m\u001B[38;5;124m'\u001B[39m] \u001B[38;5;241m=\u001B[39m df[\u001B[38;5;124m'\u001B[39m\u001B[38;5;124mcontexts\u001B[39m\u001B[38;5;124m'\u001B[39m]\u001B[38;5;241m.\u001B[39mapply(\u001B[38;5;28;01mlambda\u001B[39;00m x: [x])\n",
      "File \u001B[0;32m/opt/anaconda3/envs/moreGraph/lib/python3.11/site-packages/pandas/io/parsers/readers.py:1026\u001B[0m, in \u001B[0;36mread_csv\u001B[0;34m(filepath_or_buffer, sep, delimiter, header, names, index_col, usecols, dtype, engine, converters, true_values, false_values, skipinitialspace, skiprows, skipfooter, nrows, na_values, keep_default_na, na_filter, verbose, skip_blank_lines, parse_dates, infer_datetime_format, keep_date_col, date_parser, date_format, dayfirst, cache_dates, iterator, chunksize, compression, thousands, decimal, lineterminator, quotechar, quoting, doublequote, escapechar, comment, encoding, encoding_errors, dialect, on_bad_lines, delim_whitespace, low_memory, memory_map, float_precision, storage_options, dtype_backend)\u001B[0m\n\u001B[1;32m   1013\u001B[0m kwds_defaults \u001B[38;5;241m=\u001B[39m _refine_defaults_read(\n\u001B[1;32m   1014\u001B[0m     dialect,\n\u001B[1;32m   1015\u001B[0m     delimiter,\n\u001B[0;32m   (...)\u001B[0m\n\u001B[1;32m   1022\u001B[0m     dtype_backend\u001B[38;5;241m=\u001B[39mdtype_backend,\n\u001B[1;32m   1023\u001B[0m )\n\u001B[1;32m   1024\u001B[0m kwds\u001B[38;5;241m.\u001B[39mupdate(kwds_defaults)\n\u001B[0;32m-> 1026\u001B[0m \u001B[38;5;28;01mreturn\u001B[39;00m \u001B[43m_read\u001B[49m\u001B[43m(\u001B[49m\u001B[43mfilepath_or_buffer\u001B[49m\u001B[43m,\u001B[49m\u001B[43m \u001B[49m\u001B[43mkwds\u001B[49m\u001B[43m)\u001B[49m\n",
      "File \u001B[0;32m/opt/anaconda3/envs/moreGraph/lib/python3.11/site-packages/pandas/io/parsers/readers.py:620\u001B[0m, in \u001B[0;36m_read\u001B[0;34m(filepath_or_buffer, kwds)\u001B[0m\n\u001B[1;32m    617\u001B[0m _validate_names(kwds\u001B[38;5;241m.\u001B[39mget(\u001B[38;5;124m\"\u001B[39m\u001B[38;5;124mnames\u001B[39m\u001B[38;5;124m\"\u001B[39m, \u001B[38;5;28;01mNone\u001B[39;00m))\n\u001B[1;32m    619\u001B[0m \u001B[38;5;66;03m# Create the parser.\u001B[39;00m\n\u001B[0;32m--> 620\u001B[0m parser \u001B[38;5;241m=\u001B[39m \u001B[43mTextFileReader\u001B[49m\u001B[43m(\u001B[49m\u001B[43mfilepath_or_buffer\u001B[49m\u001B[43m,\u001B[49m\u001B[43m \u001B[49m\u001B[38;5;241;43m*\u001B[39;49m\u001B[38;5;241;43m*\u001B[39;49m\u001B[43mkwds\u001B[49m\u001B[43m)\u001B[49m\n\u001B[1;32m    622\u001B[0m \u001B[38;5;28;01mif\u001B[39;00m chunksize \u001B[38;5;129;01mor\u001B[39;00m iterator:\n\u001B[1;32m    623\u001B[0m     \u001B[38;5;28;01mreturn\u001B[39;00m parser\n",
      "File \u001B[0;32m/opt/anaconda3/envs/moreGraph/lib/python3.11/site-packages/pandas/io/parsers/readers.py:1620\u001B[0m, in \u001B[0;36mTextFileReader.__init__\u001B[0;34m(self, f, engine, **kwds)\u001B[0m\n\u001B[1;32m   1617\u001B[0m     \u001B[38;5;28mself\u001B[39m\u001B[38;5;241m.\u001B[39moptions[\u001B[38;5;124m\"\u001B[39m\u001B[38;5;124mhas_index_names\u001B[39m\u001B[38;5;124m\"\u001B[39m] \u001B[38;5;241m=\u001B[39m kwds[\u001B[38;5;124m\"\u001B[39m\u001B[38;5;124mhas_index_names\u001B[39m\u001B[38;5;124m\"\u001B[39m]\n\u001B[1;32m   1619\u001B[0m \u001B[38;5;28mself\u001B[39m\u001B[38;5;241m.\u001B[39mhandles: IOHandles \u001B[38;5;241m|\u001B[39m \u001B[38;5;28;01mNone\u001B[39;00m \u001B[38;5;241m=\u001B[39m \u001B[38;5;28;01mNone\u001B[39;00m\n\u001B[0;32m-> 1620\u001B[0m \u001B[38;5;28mself\u001B[39m\u001B[38;5;241m.\u001B[39m_engine \u001B[38;5;241m=\u001B[39m \u001B[38;5;28;43mself\u001B[39;49m\u001B[38;5;241;43m.\u001B[39;49m\u001B[43m_make_engine\u001B[49m\u001B[43m(\u001B[49m\u001B[43mf\u001B[49m\u001B[43m,\u001B[49m\u001B[43m \u001B[49m\u001B[38;5;28;43mself\u001B[39;49m\u001B[38;5;241;43m.\u001B[39;49m\u001B[43mengine\u001B[49m\u001B[43m)\u001B[49m\n",
      "File \u001B[0;32m/opt/anaconda3/envs/moreGraph/lib/python3.11/site-packages/pandas/io/parsers/readers.py:1880\u001B[0m, in \u001B[0;36mTextFileReader._make_engine\u001B[0;34m(self, f, engine)\u001B[0m\n\u001B[1;32m   1878\u001B[0m     \u001B[38;5;28;01mif\u001B[39;00m \u001B[38;5;124m\"\u001B[39m\u001B[38;5;124mb\u001B[39m\u001B[38;5;124m\"\u001B[39m \u001B[38;5;129;01mnot\u001B[39;00m \u001B[38;5;129;01min\u001B[39;00m mode:\n\u001B[1;32m   1879\u001B[0m         mode \u001B[38;5;241m+\u001B[39m\u001B[38;5;241m=\u001B[39m \u001B[38;5;124m\"\u001B[39m\u001B[38;5;124mb\u001B[39m\u001B[38;5;124m\"\u001B[39m\n\u001B[0;32m-> 1880\u001B[0m \u001B[38;5;28mself\u001B[39m\u001B[38;5;241m.\u001B[39mhandles \u001B[38;5;241m=\u001B[39m \u001B[43mget_handle\u001B[49m\u001B[43m(\u001B[49m\n\u001B[1;32m   1881\u001B[0m \u001B[43m    \u001B[49m\u001B[43mf\u001B[49m\u001B[43m,\u001B[49m\n\u001B[1;32m   1882\u001B[0m \u001B[43m    \u001B[49m\u001B[43mmode\u001B[49m\u001B[43m,\u001B[49m\n\u001B[1;32m   1883\u001B[0m \u001B[43m    \u001B[49m\u001B[43mencoding\u001B[49m\u001B[38;5;241;43m=\u001B[39;49m\u001B[38;5;28;43mself\u001B[39;49m\u001B[38;5;241;43m.\u001B[39;49m\u001B[43moptions\u001B[49m\u001B[38;5;241;43m.\u001B[39;49m\u001B[43mget\u001B[49m\u001B[43m(\u001B[49m\u001B[38;5;124;43m\"\u001B[39;49m\u001B[38;5;124;43mencoding\u001B[39;49m\u001B[38;5;124;43m\"\u001B[39;49m\u001B[43m,\u001B[49m\u001B[43m \u001B[49m\u001B[38;5;28;43;01mNone\u001B[39;49;00m\u001B[43m)\u001B[49m\u001B[43m,\u001B[49m\n\u001B[1;32m   1884\u001B[0m \u001B[43m    \u001B[49m\u001B[43mcompression\u001B[49m\u001B[38;5;241;43m=\u001B[39;49m\u001B[38;5;28;43mself\u001B[39;49m\u001B[38;5;241;43m.\u001B[39;49m\u001B[43moptions\u001B[49m\u001B[38;5;241;43m.\u001B[39;49m\u001B[43mget\u001B[49m\u001B[43m(\u001B[49m\u001B[38;5;124;43m\"\u001B[39;49m\u001B[38;5;124;43mcompression\u001B[39;49m\u001B[38;5;124;43m\"\u001B[39;49m\u001B[43m,\u001B[49m\u001B[43m \u001B[49m\u001B[38;5;28;43;01mNone\u001B[39;49;00m\u001B[43m)\u001B[49m\u001B[43m,\u001B[49m\n\u001B[1;32m   1885\u001B[0m \u001B[43m    \u001B[49m\u001B[43mmemory_map\u001B[49m\u001B[38;5;241;43m=\u001B[39;49m\u001B[38;5;28;43mself\u001B[39;49m\u001B[38;5;241;43m.\u001B[39;49m\u001B[43moptions\u001B[49m\u001B[38;5;241;43m.\u001B[39;49m\u001B[43mget\u001B[49m\u001B[43m(\u001B[49m\u001B[38;5;124;43m\"\u001B[39;49m\u001B[38;5;124;43mmemory_map\u001B[39;49m\u001B[38;5;124;43m\"\u001B[39;49m\u001B[43m,\u001B[49m\u001B[43m \u001B[49m\u001B[38;5;28;43;01mFalse\u001B[39;49;00m\u001B[43m)\u001B[49m\u001B[43m,\u001B[49m\n\u001B[1;32m   1886\u001B[0m \u001B[43m    \u001B[49m\u001B[43mis_text\u001B[49m\u001B[38;5;241;43m=\u001B[39;49m\u001B[43mis_text\u001B[49m\u001B[43m,\u001B[49m\n\u001B[1;32m   1887\u001B[0m \u001B[43m    \u001B[49m\u001B[43merrors\u001B[49m\u001B[38;5;241;43m=\u001B[39;49m\u001B[38;5;28;43mself\u001B[39;49m\u001B[38;5;241;43m.\u001B[39;49m\u001B[43moptions\u001B[49m\u001B[38;5;241;43m.\u001B[39;49m\u001B[43mget\u001B[49m\u001B[43m(\u001B[49m\u001B[38;5;124;43m\"\u001B[39;49m\u001B[38;5;124;43mencoding_errors\u001B[39;49m\u001B[38;5;124;43m\"\u001B[39;49m\u001B[43m,\u001B[49m\u001B[43m \u001B[49m\u001B[38;5;124;43m\"\u001B[39;49m\u001B[38;5;124;43mstrict\u001B[39;49m\u001B[38;5;124;43m\"\u001B[39;49m\u001B[43m)\u001B[49m\u001B[43m,\u001B[49m\n\u001B[1;32m   1888\u001B[0m \u001B[43m    \u001B[49m\u001B[43mstorage_options\u001B[49m\u001B[38;5;241;43m=\u001B[39;49m\u001B[38;5;28;43mself\u001B[39;49m\u001B[38;5;241;43m.\u001B[39;49m\u001B[43moptions\u001B[49m\u001B[38;5;241;43m.\u001B[39;49m\u001B[43mget\u001B[49m\u001B[43m(\u001B[49m\u001B[38;5;124;43m\"\u001B[39;49m\u001B[38;5;124;43mstorage_options\u001B[39;49m\u001B[38;5;124;43m\"\u001B[39;49m\u001B[43m,\u001B[49m\u001B[43m \u001B[49m\u001B[38;5;28;43;01mNone\u001B[39;49;00m\u001B[43m)\u001B[49m\u001B[43m,\u001B[49m\n\u001B[1;32m   1889\u001B[0m \u001B[43m\u001B[49m\u001B[43m)\u001B[49m\n\u001B[1;32m   1890\u001B[0m \u001B[38;5;28;01massert\u001B[39;00m \u001B[38;5;28mself\u001B[39m\u001B[38;5;241m.\u001B[39mhandles \u001B[38;5;129;01mis\u001B[39;00m \u001B[38;5;129;01mnot\u001B[39;00m \u001B[38;5;28;01mNone\u001B[39;00m\n\u001B[1;32m   1891\u001B[0m f \u001B[38;5;241m=\u001B[39m \u001B[38;5;28mself\u001B[39m\u001B[38;5;241m.\u001B[39mhandles\u001B[38;5;241m.\u001B[39mhandle\n",
      "File \u001B[0;32m/opt/anaconda3/envs/moreGraph/lib/python3.11/site-packages/pandas/io/common.py:873\u001B[0m, in \u001B[0;36mget_handle\u001B[0;34m(path_or_buf, mode, encoding, compression, memory_map, is_text, errors, storage_options)\u001B[0m\n\u001B[1;32m    868\u001B[0m \u001B[38;5;28;01melif\u001B[39;00m \u001B[38;5;28misinstance\u001B[39m(handle, \u001B[38;5;28mstr\u001B[39m):\n\u001B[1;32m    869\u001B[0m     \u001B[38;5;66;03m# Check whether the filename is to be opened in binary mode.\u001B[39;00m\n\u001B[1;32m    870\u001B[0m     \u001B[38;5;66;03m# Binary mode does not support 'encoding' and 'newline'.\u001B[39;00m\n\u001B[1;32m    871\u001B[0m     \u001B[38;5;28;01mif\u001B[39;00m ioargs\u001B[38;5;241m.\u001B[39mencoding \u001B[38;5;129;01mand\u001B[39;00m \u001B[38;5;124m\"\u001B[39m\u001B[38;5;124mb\u001B[39m\u001B[38;5;124m\"\u001B[39m \u001B[38;5;129;01mnot\u001B[39;00m \u001B[38;5;129;01min\u001B[39;00m ioargs\u001B[38;5;241m.\u001B[39mmode:\n\u001B[1;32m    872\u001B[0m         \u001B[38;5;66;03m# Encoding\u001B[39;00m\n\u001B[0;32m--> 873\u001B[0m         handle \u001B[38;5;241m=\u001B[39m \u001B[38;5;28;43mopen\u001B[39;49m\u001B[43m(\u001B[49m\n\u001B[1;32m    874\u001B[0m \u001B[43m            \u001B[49m\u001B[43mhandle\u001B[49m\u001B[43m,\u001B[49m\n\u001B[1;32m    875\u001B[0m \u001B[43m            \u001B[49m\u001B[43mioargs\u001B[49m\u001B[38;5;241;43m.\u001B[39;49m\u001B[43mmode\u001B[49m\u001B[43m,\u001B[49m\n\u001B[1;32m    876\u001B[0m \u001B[43m            \u001B[49m\u001B[43mencoding\u001B[49m\u001B[38;5;241;43m=\u001B[39;49m\u001B[43mioargs\u001B[49m\u001B[38;5;241;43m.\u001B[39;49m\u001B[43mencoding\u001B[49m\u001B[43m,\u001B[49m\n\u001B[1;32m    877\u001B[0m \u001B[43m            \u001B[49m\u001B[43merrors\u001B[49m\u001B[38;5;241;43m=\u001B[39;49m\u001B[43merrors\u001B[49m\u001B[43m,\u001B[49m\n\u001B[1;32m    878\u001B[0m \u001B[43m            \u001B[49m\u001B[43mnewline\u001B[49m\u001B[38;5;241;43m=\u001B[39;49m\u001B[38;5;124;43m\"\u001B[39;49m\u001B[38;5;124;43m\"\u001B[39;49m\u001B[43m,\u001B[49m\n\u001B[1;32m    879\u001B[0m \u001B[43m        \u001B[49m\u001B[43m)\u001B[49m\n\u001B[1;32m    880\u001B[0m     \u001B[38;5;28;01melse\u001B[39;00m:\n\u001B[1;32m    881\u001B[0m         \u001B[38;5;66;03m# Binary mode\u001B[39;00m\n\u001B[1;32m    882\u001B[0m         handle \u001B[38;5;241m=\u001B[39m \u001B[38;5;28mopen\u001B[39m(handle, ioargs\u001B[38;5;241m.\u001B[39mmode)\n",
      "\u001B[0;31mFileNotFoundError\u001B[0m: [Errno 2] No such file or directory: 'split_file_1.csv'"
     ]
    }
   ],
   "execution_count": 9
  },
  {
   "metadata": {
    "ExecuteTime": {
     "end_time": "2024-08-19T08:33:28.809568Z",
     "start_time": "2024-08-19T06:59:40.048617Z"
    }
   },
   "cell_type": "code",
   "source": [
    "from datasets import Dataset\n",
    "\n",
    "# 创建字典\n",
    "data_dict = {\n",
    "    'question': df['question'].tolist(),\n",
    "    'contexts': df['contexts'].tolist(),\n",
    "    'answer': df['answer'].tolist(),\n",
    "    'ground_truth': df['ground_truth'].tolist()  # 如果有其他列，类似地处理\n",
    "}\n",
    "\n",
    "# 使用字典创建数据集\n",
    "hf_dataset = Dataset.from_dict(data_dict)\n",
    "hf_dataset"
   ],
   "id": "e9da8af6f00500d1",
   "outputs": [
    {
     "data": {
      "text/plain": [
       "Dataset({\n",
       "    features: ['question', 'contexts', 'answer', 'ground_truth'],\n",
       "    num_rows: 10\n",
       "})"
      ]
     },
     "execution_count": 10,
     "metadata": {},
     "output_type": "execute_result"
    }
   ],
   "execution_count": 10
  },
  {
   "metadata": {
    "ExecuteTime": {
     "end_time": "2024-08-19T08:33:28.845296Z",
     "start_time": "2024-08-19T06:59:40.185496Z"
    }
   },
   "cell_type": "code",
   "source": [
    "from ragas.metrics import (\n",
    "    # answer_relevancy,\n",
    "    faithfulness,\n",
    "    context_recall,\n",
    "    context_precision,\n",
    "    context_entity_recall,\n",
    "    answer_correctness,\n",
    "    answer_similarity,\n",
    ")"
   ],
   "id": "a1f46ff82a01e321",
   "outputs": [],
   "execution_count": 11
  },
  {
   "metadata": {
    "ExecuteTime": {
     "end_time": "2024-08-19T08:33:28.845786Z",
     "start_time": "2024-08-19T06:59:40.298582Z"
    }
   },
   "cell_type": "code",
   "source": [
    "from langchain_openai import ChatOpenAI, OpenAIEmbeddings\n",
    "\n",
    "# 为embedding设置独立api\n",
    "openai_key_embedding = 'sk-S52sOieQg04WZzEtNa4gKt52RcJQ3qh6ac8GZfWQhBqQskUg'\n",
    "# 为chatbot设置独立api，重定向至deepseek\n",
    "# deepseek_key = 'sk-aff8187171d643828da2280bf1846bc0'\n",
    "\n",
    "llm = ChatOpenAI(model=\"gpt-4o-mini\", base_url=\"https://api.openai-proxy.org/v1\", api_key=openai_key_embedding)\n",
    "\n",
    "embeddings = OpenAIEmbeddings(model=\"text-embedding-3-small\", base_url=\"https://api.openai-proxy.org/v1\", api_key=openai_key_embedding)"
   ],
   "id": "f30b5898e9a4266c",
   "outputs": [],
   "execution_count": 12
  },
  {
   "metadata": {
    "ExecuteTime": {
     "end_time": "2024-08-19T08:33:28.846123Z",
     "start_time": "2024-08-19T06:59:40.618238Z"
    }
   },
   "cell_type": "code",
   "source": [
    "from ragas import evaluate\n",
    "from ragas.run_config import RunConfig\n",
    "\n",
    "result = evaluate(\n",
    "    hf_dataset,\n",
    "    metrics=[\n",
    "    # answer_relevancy,\n",
    "    # faithfulness,\n",
    "    # context_recall,\n",
    "    # context_precision,\n",
    "    # context_entity_recall,\n",
    "    answer_correctness,\n",
    "    answer_similarity,\n",
    "    ],\n",
    "    llm=llm,\n",
    "    embeddings=embeddings,\n",
    "    run_config=RunConfig(max_workers=16, max_retries=3, max_wait=30)\n",
    ")\n",
    "\n",
    "result"
   ],
   "id": "c0c3fcabd47e1128",
   "outputs": [
    {
     "data": {
      "text/plain": [
       "Evaluating:   0%|          | 0/20 [00:00<?, ?it/s]"
      ],
      "application/vnd.jupyter.widget-view+json": {
       "version_major": 2,
       "version_minor": 0,
       "model_id": "f219383175b04716a007ac8bdd307198"
      }
     },
     "metadata": {},
     "output_type": "display_data"
    },
    {
     "data": {
      "text/plain": [
       "{'answer_correctness': 0.9422, 'answer_similarity': 0.7688}"
      ]
     },
     "execution_count": 13,
     "metadata": {},
     "output_type": "execute_result"
    }
   ],
   "execution_count": 13
  },
  {
   "metadata": {
    "ExecuteTime": {
     "end_time": "2024-08-19T08:33:28.846533Z",
     "start_time": "2024-08-19T06:59:49.253498Z"
    }
   },
   "cell_type": "code",
   "source": [
    "df = result.to_pandas()\n",
    "df"
   ],
   "id": "8146ded5ba99a5eb",
   "outputs": [
    {
     "data": {
      "text/plain": [
       "                                           question  \\\n",
       "0                              二禅的特点是什么，以及它与初禅有何不同？   \n",
       "1                                    为什么说涅槃并不是一种境界？   \n",
       "2                     \"在观察法念处时，如何通过观察受的生起与灭掉来消除贪嗔痴？   \n",
       "3                          “在佛教冥想中，修习‘观心无常’的目的是什么？”   \n",
       "4                                   \"为什么皈依后应该亲近善知识？   \n",
       "5                    佛陀时代，化相三宝的僧宝包括哪些成员，他们的修行目的是什么？   \n",
       "6                                如何通过六根与六尘的接触减少贪嗔痴？   \n",
       "7  在菩萨道修行中，哪些布施与持戒行为能助修行者超越生死轮回，实现解脱，并为何这些行为被称为波罗蜜？   \n",
       "8                     在修行过程中，如何通过经行和静坐来达到心念了了分明的状态？   \n",
       "9                在佛教修行中，对佛、法、僧以及戒律的绝对信心如何影响一个人证悟初果？   \n",
       "\n",
       "                                            contexts  \\\n",
       "0  [[�；在坐禅时，进入初禅的时候，身体会有很舒服的感觉，那就是乐。所以进入初禅也称为‘离生喜...   \n",
       "1  [[解所执著的渣滓皆丢光。如果追求解脱者想‘得到’解脱，那就是错了，因为解脱是‘什么都得不到...   \n",
       "2  [[�用心观察，慢慢的就能掌握消除五盖的方法，它就会消除掉，那我们就不会再怀疑佛法，对它深信...   \n",
       "3  [[�、香、味、触、法六尘，称为十八界。我们个别观察它，里面没有一个我，这十八界合起来的一个...   \n",
       "4  [[缘使得我们认识到自心，那是非常可贵的，所以我们看到佛、法、僧，要生起如获至宝之想。\\n\\...   \n",
       "5  [[是和合众的意思。奉行佛陀教法的佛陀出家弟子，这些实践佛法的出家弟子都称为僧，他们是比丘、...   \n",
       "6  [[�用心观察，慢慢的就能掌握消除五盖的方法，它就会消除掉，那我们就不会再怀疑佛法，对它深信...   \n",
       "7  [[�闻到正法，了解人生是很苦恼的，同时也使他们懂得解脱的道理，能令他们走上解脱之道，这三种...   \n",
       "8  [[�先修行者要放下一切事物，住在庙宇中，然后跟随一位有资格的导师学习。每天起来，坐禅与经行...   \n",
       "9  [[何人都不可毁坏。假如一个人对佛、法、僧以及戒有绝对的信心，一点儿也不怀疑，那他就是断了疑...   \n",
       "\n",
       "                                              answer  \\\n",
       "0  二禅是佛教修行中的一个深入阶段，与初禅相比，二禅的特点主要体现在专注的深度、体验的纯净度以及...   \n",
       "1  涅槃在佛教中是一个极为深奥的概念，它通常被理解为超越生死轮回的终极解脱状态。涅槃并不是一种境...   \n",
       "2  在观察法念处时，通过觉知感受的生起与灭去，修行者可以洞察感受的无常和苦的本质，从而减少对感受...   \n",
       "3  在佛教冥想中，修习“观心无常”的目的是帮助修行者认识到心念的无常性，从而减少对心念的执著，培...   \n",
       "4  皈依后亲近善知识是因为他们能提供正确的修行指导，帮助理解佛教教义，避免走入歧途；通过交流学习...   \n",
       "5  在佛陀时代，化相三宝中的僧宝指的是佛陀的弟子，即比丘和比丘尼，他们是出家修行的僧侣。他们的修...   \n",
       "6  通过六根与六尘的接触减少贪嗔痴，关键在于保持觉知，观察接触带来的感受和反应，认识到它们的无常...   \n",
       "7  在菩萨道修行中，布施、持戒、忍辱、精进、禅定、智慧这六种行为被称为波罗蜜（Paramita）...   \n",
       "8  通过经行和静坐来达到心念了了分明的状态，可以在经行时专注于步伐和身体移动，感受脚与地面的接触...   \n",
       "9  在佛教修行中，对佛、法、僧以及戒律的绝对信心是证悟初果的重要因素。这种信心能够激励修行者遵循...   \n",
       "\n",
       "                                        ground_truth  answer_correctness  \\\n",
       "0  二禅的特点包括无觉无观、内心平静、清净、无眼、耳、身识，唯有意识，以及具有内静、喜、乐、一心...            0.945618   \n",
       "1  涅槃并不是一种境界，因为如果涅槃是一种境界，能进入那种境界，必然能够出，有进、有出，就是有生...            0.932793   \n",
       "2  在观察法念处时，通过观察受的生起与灭掉，可以消除贪嗔痴。一旦你看到受的生起、再灭掉，那么我们...            0.903793   \n",
       "3  佛教冥想中实践“观心无常”的目的在于认识到心念始终处于变化之中，并无恒定不变的状态，从而有助...            0.956631   \n",
       "4  皈依后应该亲近善知识，因为亲近善知识可以帮助我们听闻正法，生起正见，并且依教奉行，以僧为榜样...            0.940159   \n",
       "5  佛陀时代，化相三宝的僧宝包括无数出家的凡圣弟子，他们的修行目的是依据佛法修行，结果解脱证果，...            0.921904   \n",
       "6  通过观察六根与六尘的接触，了了分明受的生起和灭掉，可以减少贪嗔痴。例如，当有人骂你时，通过观...            0.943976   \n",
       "7  在菩萨道修行中，闻到正法、了解人生苦恼、懂得解脱道理的布施，以及持戒中的律仪戒、摄善法戒、饶...            0.964833   \n",
       "8  在修行过程中，通过经行和静坐来达到心念了了分明的状态，主要是通过观察身体的一举一动和呼吸的出...            0.957411   \n",
       "9  在佛教修行中，对佛、法、僧以及戒律的绝对信心可以断除疑结，使一个人证悟到初果。如果学佛者对这...            0.954796   \n",
       "\n",
       "   answer_similarity  \n",
       "0           0.782544  \n",
       "1           0.731171  \n",
       "2           0.615204  \n",
       "3           0.826628  \n",
       "4           0.760636  \n",
       "5           0.687550  \n",
       "6           0.775940  \n",
       "7           0.859465  \n",
       "8           0.829645  \n",
       "9           0.819179  "
      ],
      "text/html": [
       "<div>\n",
       "<style scoped>\n",
       "    .dataframe tbody tr th:only-of-type {\n",
       "        vertical-align: middle;\n",
       "    }\n",
       "\n",
       "    .dataframe tbody tr th {\n",
       "        vertical-align: top;\n",
       "    }\n",
       "\n",
       "    .dataframe thead th {\n",
       "        text-align: right;\n",
       "    }\n",
       "</style>\n",
       "<table border=\"1\" class=\"dataframe\">\n",
       "  <thead>\n",
       "    <tr style=\"text-align: right;\">\n",
       "      <th></th>\n",
       "      <th>question</th>\n",
       "      <th>contexts</th>\n",
       "      <th>answer</th>\n",
       "      <th>ground_truth</th>\n",
       "      <th>answer_correctness</th>\n",
       "      <th>answer_similarity</th>\n",
       "    </tr>\n",
       "  </thead>\n",
       "  <tbody>\n",
       "    <tr>\n",
       "      <th>0</th>\n",
       "      <td>二禅的特点是什么，以及它与初禅有何不同？</td>\n",
       "      <td>[[�；在坐禅时，进入初禅的时候，身体会有很舒服的感觉，那就是乐。所以进入初禅也称为‘离生喜...</td>\n",
       "      <td>二禅是佛教修行中的一个深入阶段，与初禅相比，二禅的特点主要体现在专注的深度、体验的纯净度以及...</td>\n",
       "      <td>二禅的特点包括无觉无观、内心平静、清净、无眼、耳、身识，唯有意识，以及具有内静、喜、乐、一心...</td>\n",
       "      <td>0.945618</td>\n",
       "      <td>0.782544</td>\n",
       "    </tr>\n",
       "    <tr>\n",
       "      <th>1</th>\n",
       "      <td>为什么说涅槃并不是一种境界？</td>\n",
       "      <td>[[解所执著的渣滓皆丢光。如果追求解脱者想‘得到’解脱，那就是错了，因为解脱是‘什么都得不到...</td>\n",
       "      <td>涅槃在佛教中是一个极为深奥的概念，它通常被理解为超越生死轮回的终极解脱状态。涅槃并不是一种境...</td>\n",
       "      <td>涅槃并不是一种境界，因为如果涅槃是一种境界，能进入那种境界，必然能够出，有进、有出，就是有生...</td>\n",
       "      <td>0.932793</td>\n",
       "      <td>0.731171</td>\n",
       "    </tr>\n",
       "    <tr>\n",
       "      <th>2</th>\n",
       "      <td>\"在观察法念处时，如何通过观察受的生起与灭掉来消除贪嗔痴？</td>\n",
       "      <td>[[�用心观察，慢慢的就能掌握消除五盖的方法，它就会消除掉，那我们就不会再怀疑佛法，对它深信...</td>\n",
       "      <td>在观察法念处时，通过觉知感受的生起与灭去，修行者可以洞察感受的无常和苦的本质，从而减少对感受...</td>\n",
       "      <td>在观察法念处时，通过观察受的生起与灭掉，可以消除贪嗔痴。一旦你看到受的生起、再灭掉，那么我们...</td>\n",
       "      <td>0.903793</td>\n",
       "      <td>0.615204</td>\n",
       "    </tr>\n",
       "    <tr>\n",
       "      <th>3</th>\n",
       "      <td>“在佛教冥想中，修习‘观心无常’的目的是什么？”</td>\n",
       "      <td>[[�、香、味、触、法六尘，称为十八界。我们个别观察它，里面没有一个我，这十八界合起来的一个...</td>\n",
       "      <td>在佛教冥想中，修习“观心无常”的目的是帮助修行者认识到心念的无常性，从而减少对心念的执著，培...</td>\n",
       "      <td>佛教冥想中实践“观心无常”的目的在于认识到心念始终处于变化之中，并无恒定不变的状态，从而有助...</td>\n",
       "      <td>0.956631</td>\n",
       "      <td>0.826628</td>\n",
       "    </tr>\n",
       "    <tr>\n",
       "      <th>4</th>\n",
       "      <td>\"为什么皈依后应该亲近善知识？</td>\n",
       "      <td>[[缘使得我们认识到自心，那是非常可贵的，所以我们看到佛、法、僧，要生起如获至宝之想。\\n\\...</td>\n",
       "      <td>皈依后亲近善知识是因为他们能提供正确的修行指导，帮助理解佛教教义，避免走入歧途；通过交流学习...</td>\n",
       "      <td>皈依后应该亲近善知识，因为亲近善知识可以帮助我们听闻正法，生起正见，并且依教奉行，以僧为榜样...</td>\n",
       "      <td>0.940159</td>\n",
       "      <td>0.760636</td>\n",
       "    </tr>\n",
       "    <tr>\n",
       "      <th>5</th>\n",
       "      <td>佛陀时代，化相三宝的僧宝包括哪些成员，他们的修行目的是什么？</td>\n",
       "      <td>[[是和合众的意思。奉行佛陀教法的佛陀出家弟子，这些实践佛法的出家弟子都称为僧，他们是比丘、...</td>\n",
       "      <td>在佛陀时代，化相三宝中的僧宝指的是佛陀的弟子，即比丘和比丘尼，他们是出家修行的僧侣。他们的修...</td>\n",
       "      <td>佛陀时代，化相三宝的僧宝包括无数出家的凡圣弟子，他们的修行目的是依据佛法修行，结果解脱证果，...</td>\n",
       "      <td>0.921904</td>\n",
       "      <td>0.687550</td>\n",
       "    </tr>\n",
       "    <tr>\n",
       "      <th>6</th>\n",
       "      <td>如何通过六根与六尘的接触减少贪嗔痴？</td>\n",
       "      <td>[[�用心观察，慢慢的就能掌握消除五盖的方法，它就会消除掉，那我们就不会再怀疑佛法，对它深信...</td>\n",
       "      <td>通过六根与六尘的接触减少贪嗔痴，关键在于保持觉知，观察接触带来的感受和反应，认识到它们的无常...</td>\n",
       "      <td>通过观察六根与六尘的接触，了了分明受的生起和灭掉，可以减少贪嗔痴。例如，当有人骂你时，通过观...</td>\n",
       "      <td>0.943976</td>\n",
       "      <td>0.775940</td>\n",
       "    </tr>\n",
       "    <tr>\n",
       "      <th>7</th>\n",
       "      <td>在菩萨道修行中，哪些布施与持戒行为能助修行者超越生死轮回，实现解脱，并为何这些行为被称为波罗蜜？</td>\n",
       "      <td>[[�闻到正法，了解人生是很苦恼的，同时也使他们懂得解脱的道理，能令他们走上解脱之道，这三种...</td>\n",
       "      <td>在菩萨道修行中，布施、持戒、忍辱、精进、禅定、智慧这六种行为被称为波罗蜜（Paramita）...</td>\n",
       "      <td>在菩萨道修行中，闻到正法、了解人生苦恼、懂得解脱道理的布施，以及持戒中的律仪戒、摄善法戒、饶...</td>\n",
       "      <td>0.964833</td>\n",
       "      <td>0.859465</td>\n",
       "    </tr>\n",
       "    <tr>\n",
       "      <th>8</th>\n",
       "      <td>在修行过程中，如何通过经行和静坐来达到心念了了分明的状态？</td>\n",
       "      <td>[[�先修行者要放下一切事物，住在庙宇中，然后跟随一位有资格的导师学习。每天起来，坐禅与经行...</td>\n",
       "      <td>通过经行和静坐来达到心念了了分明的状态，可以在经行时专注于步伐和身体移动，感受脚与地面的接触...</td>\n",
       "      <td>在修行过程中，通过经行和静坐来达到心念了了分明的状态，主要是通过观察身体的一举一动和呼吸的出...</td>\n",
       "      <td>0.957411</td>\n",
       "      <td>0.829645</td>\n",
       "    </tr>\n",
       "    <tr>\n",
       "      <th>9</th>\n",
       "      <td>在佛教修行中，对佛、法、僧以及戒律的绝对信心如何影响一个人证悟初果？</td>\n",
       "      <td>[[何人都不可毁坏。假如一个人对佛、法、僧以及戒有绝对的信心，一点儿也不怀疑，那他就是断了疑...</td>\n",
       "      <td>在佛教修行中，对佛、法、僧以及戒律的绝对信心是证悟初果的重要因素。这种信心能够激励修行者遵循...</td>\n",
       "      <td>在佛教修行中，对佛、法、僧以及戒律的绝对信心可以断除疑结，使一个人证悟到初果。如果学佛者对这...</td>\n",
       "      <td>0.954796</td>\n",
       "      <td>0.819179</td>\n",
       "    </tr>\n",
       "  </tbody>\n",
       "</table>\n",
       "</div>"
      ]
     },
     "execution_count": 14,
     "metadata": {},
     "output_type": "execute_result"
    }
   ],
   "execution_count": 14
  },
  {
   "metadata": {
    "ExecuteTime": {
     "end_time": "2024-08-19T08:33:28.848598Z",
     "start_time": "2024-08-19T07:00:56.528134Z"
    }
   },
   "cell_type": "code",
   "source": "df.to_csv(\"eval_by_4omini.csv\", index=False)",
   "id": "883e314f8b9633bc",
   "outputs": [],
   "execution_count": 16
  },
  {
   "metadata": {},
   "cell_type": "code",
   "outputs": [],
   "execution_count": null,
   "source": "",
   "id": "3b9551745481e89e"
  }
 ],
 "metadata": {
  "kernelspec": {
   "display_name": "Python 3",
   "language": "python",
   "name": "python3"
  },
  "language_info": {
   "codemirror_mode": {
    "name": "ipython",
    "version": 2
   },
   "file_extension": ".py",
   "mimetype": "text/x-python",
   "name": "python",
   "nbconvert_exporter": "python",
   "pygments_lexer": "ipython2",
   "version": "2.7.6"
  }
 },
 "nbformat": 4,
 "nbformat_minor": 5
}
