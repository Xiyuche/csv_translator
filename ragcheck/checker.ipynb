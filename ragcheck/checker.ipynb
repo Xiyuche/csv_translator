{
 "cells": [
  {
   "cell_type": "code",
   "id": "initial_id",
   "metadata": {
    "collapsed": true
   },
   "source": [
    "import os\n",
    "from refchecker import LLMExtractor, LLMChecker\n",
    "from ragchecker import RAGResults, RAGChecker\n",
    "from ragchecker.metrics import all_metrics\n",
    "\n",
    "\n"
   ],
   "outputs": [],
   "execution_count": null
  },
  {
   "metadata": {},
   "cell_type": "code",
   "source": [
    "openai_api_key=\"sk-S52sOieQg04WZzEtNa4gKt52RcJQ3qh6ac8GZfWQhBqQskUg\"\n",
    "\n",
    "model = 'gpt-4o-mini'\n",
    "\n",
    "api_base = 'https://api.openai-proxy.org/v1'\n",
    "# extractor = LLMExtractor(model=model, batch_size=8)\n",
    "# checker = LLMChecker(model=model, batch_size=8)\n"
   ],
   "id": "cb85edef0d92e9bf",
   "outputs": [],
   "execution_count": null
  },
  {
   "metadata": {},
   "cell_type": "code",
   "source": [
    "openai_api_key= 'sk-aff8187171d643828da2280bf1846bc0'\n",
    "\n",
    "model = 'deepseek-chat'\n",
    "\n",
    "api_base = 'https://api.deepseek.com/v1'\n",
    "# extractor = LLMExtractor(model=model, batch_size=8)\n",
    "# checker = LLMChecker(model=model, batch_size=8)\n"
   ],
   "id": "b235986388e0d8af",
   "outputs": [],
   "execution_count": null
  },
  {
   "metadata": {},
   "cell_type": "code",
   "source": [
    "from ragchecker import RAGResults, RAGChecker\n",
    "from ragchecker.metrics import all_metrics\n",
    "\n",
    "\n",
    "# initialize ragresults from json/dict\n",
    "with open(\"examples/checking_inputs.json\") as fp:\n",
    "    rag_results = RAGResults.from_json(fp.read())\n",
    "\n",
    "# set-up the evaluator\n",
    "evaluator = RAGChecker(\n",
    "    extractor_name=model,\n",
    "    checker_name=model,\n",
    "    batch_size_extractor=32,\n",
    "    batch_size_checker=32,\n",
    "    openai_api_key=openai_api_key,\n",
    "    extractor_api_base=api_base,\n",
    "    checker_api_base=api_base\n",
    ")\n",
    "\n",
    "# evaluate results with selected metrics or certain groups, e.g., retriever_metrics, generator_metrics, all_metrics\n",
    "evaluator.evaluate(rag_results, all_metrics)\n",
    "print(rag_results)\n",
    "\n",
    "\"\"\"Output\n",
    "RAGResults(\n",
    "  2 RAG results,\n",
    "  Metrics:\n",
    "  {\n",
    "    \"overall_metrics\": {\n",
    "      \"precision\": 76.4,\n",
    "      \"recall\": 62.5,\n",
    "      \"f1\": 68.3\n",
    "    },\n",
    "    \"retriever_metrics\": {\n",
    "      \"claim_recall\": 61.4,\n",
    "      \"context_precision\": 87.5\n",
    "    },\n",
    "    \"generator_metrics\": {\n",
    "      \"context_utilization\": 87.5,\n",
    "      \"noise_sensitivity_in_relevant\": 19.1,\n",
    "      \"noise_sensitivity_in_irrelevant\": 0.0,\n",
    "      \"hallucination\": 4.5,\n",
    "      \"self_knowledge\": 27.3,\n",
    "      \"faithfulness\": 68.2\n",
    "    }\n",
    "  }\n",
    ")\n",
    "\"\"\""
   ],
   "id": "ee5188de3701a220",
   "outputs": [],
   "execution_count": null
  },
  {
   "metadata": {},
   "cell_type": "code",
   "source": "rag_results",
   "id": "b7000fc3712c5dc2",
   "outputs": [],
   "execution_count": null
  }
 ],
 "metadata": {
  "kernelspec": {
   "display_name": "Python 3",
   "language": "python",
   "name": "python3"
  },
  "language_info": {
   "codemirror_mode": {
    "name": "ipython",
    "version": 2
   },
   "file_extension": ".py",
   "mimetype": "text/x-python",
   "name": "python",
   "nbconvert_exporter": "python",
   "pygments_lexer": "ipython2",
   "version": "2.7.6"
  }
 },
 "nbformat": 4,
 "nbformat_minor": 5
}
