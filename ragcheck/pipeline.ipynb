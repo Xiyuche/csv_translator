{
 "cells": [
  {
   "cell_type": "code",
   "id": "initial_id",
   "metadata": {
    "collapsed": true,
    "ExecuteTime": {
     "end_time": "2024-08-20T03:28:20.410728Z",
     "start_time": "2024-08-20T03:28:17.966384Z"
    }
   },
   "source": [
    "from check_tools.csv2json import convert_csv_to_json\n",
    "\n",
    "# 示例调用\n",
    "input_dir = 'input_csv'  # CSV文件的路径\n",
    "output_dir = 'input_json'  # 转换后JSON文件的保存路径\n",
    "convert_csv_to_json(input_dir, output_dir)"
   ],
   "outputs": [
    {
     "ename": "FileNotFoundError",
     "evalue": "[Errno 2] No such file or directory: '/ragcheck/input_csv'",
     "output_type": "error",
     "traceback": [
      "\u001B[0;31m---------------------------------------------------------------------------\u001B[0m",
      "\u001B[0;31mFileNotFoundError\u001B[0m                         Traceback (most recent call last)",
      "Cell \u001B[0;32mIn[1], line 1\u001B[0m\n\u001B[0;32m----> 1\u001B[0m \u001B[38;5;28;01mfrom\u001B[39;00m \u001B[38;5;21;01mcheck_tools\u001B[39;00m\u001B[38;5;21;01m.\u001B[39;00m\u001B[38;5;21;01mcsv2json\u001B[39;00m \u001B[38;5;28;01mimport\u001B[39;00m convert_csv_to_json\n\u001B[1;32m      3\u001B[0m \u001B[38;5;66;03m# 示例调用\u001B[39;00m\n\u001B[1;32m      4\u001B[0m input_dir \u001B[38;5;241m=\u001B[39m \u001B[38;5;124m'\u001B[39m\u001B[38;5;124minput_csv\u001B[39m\u001B[38;5;124m'\u001B[39m  \u001B[38;5;66;03m# CSV文件的路径\u001B[39;00m\n",
      "File \u001B[0;32m~/PycharmProjects/csv_translator/ragcheck/check_tools/csv2json.py:59\u001B[0m\n\u001B[1;32m     57\u001B[0m input_dir \u001B[38;5;241m=\u001B[39m \u001B[38;5;124m'\u001B[39m\u001B[38;5;124m/ragcheck/input_csv\u001B[39m\u001B[38;5;124m'\u001B[39m  \u001B[38;5;66;03m# CSV文件的路径\u001B[39;00m\n\u001B[1;32m     58\u001B[0m output_dir \u001B[38;5;241m=\u001B[39m \u001B[38;5;124m'\u001B[39m\u001B[38;5;124moutput\u001B[39m\u001B[38;5;124m'\u001B[39m  \u001B[38;5;66;03m# 转换后JSON文件的保存路径\u001B[39;00m\n\u001B[0;32m---> 59\u001B[0m \u001B[43mconvert_csv_to_json\u001B[49m\u001B[43m(\u001B[49m\u001B[43minput_dir\u001B[49m\u001B[43m,\u001B[49m\u001B[43m \u001B[49m\u001B[43moutput_dir\u001B[49m\u001B[43m)\u001B[49m\n",
      "File \u001B[0;32m~/PycharmProjects/csv_translator/ragcheck/check_tools/csv2json.py:11\u001B[0m, in \u001B[0;36mconvert_csv_to_json\u001B[0;34m(input_dir, output_dir)\u001B[0m\n\u001B[1;32m      8\u001B[0m     os\u001B[38;5;241m.\u001B[39mmakedirs(output_dir)\n\u001B[1;32m     10\u001B[0m \u001B[38;5;66;03m# 获取input目录下的所有CSV文件\u001B[39;00m\n\u001B[0;32m---> 11\u001B[0m csv_files \u001B[38;5;241m=\u001B[39m [f \u001B[38;5;28;01mfor\u001B[39;00m f \u001B[38;5;129;01min\u001B[39;00m \u001B[43mos\u001B[49m\u001B[38;5;241;43m.\u001B[39;49m\u001B[43mlistdir\u001B[49m\u001B[43m(\u001B[49m\u001B[43minput_dir\u001B[49m\u001B[43m)\u001B[49m \u001B[38;5;28;01mif\u001B[39;00m f\u001B[38;5;241m.\u001B[39mendswith(\u001B[38;5;124m'\u001B[39m\u001B[38;5;124m.csv\u001B[39m\u001B[38;5;124m'\u001B[39m)]\n\u001B[1;32m     13\u001B[0m \u001B[38;5;28;01mfor\u001B[39;00m csv_file \u001B[38;5;129;01min\u001B[39;00m csv_files:\n\u001B[1;32m     14\u001B[0m     csv_path \u001B[38;5;241m=\u001B[39m os\u001B[38;5;241m.\u001B[39mpath\u001B[38;5;241m.\u001B[39mjoin(input_dir, csv_file)\n",
      "\u001B[0;31mFileNotFoundError\u001B[0m: [Errno 2] No such file or directory: '/ragcheck/input_csv'"
     ]
    }
   ],
   "execution_count": 1
  },
  {
   "metadata": {},
   "cell_type": "code",
   "outputs": [],
   "execution_count": null,
   "source": "",
   "id": "b538fba7b3181e8f"
  }
 ],
 "metadata": {
  "kernelspec": {
   "display_name": "Python 3",
   "language": "python",
   "name": "python3"
  },
  "language_info": {
   "codemirror_mode": {
    "name": "ipython",
    "version": 2
   },
   "file_extension": ".py",
   "mimetype": "text/x-python",
   "name": "python",
   "nbconvert_exporter": "python",
   "pygments_lexer": "ipython2",
   "version": "2.7.6"
  }
 },
 "nbformat": 4,
 "nbformat_minor": 5
}
